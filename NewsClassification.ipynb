{
 "cells": [
  {
   "cell_type": "code",
   "execution_count": 3,
   "metadata": {},
   "outputs": [],
   "source": [
    "import pandas as pd\n",
    "import re\n",
    "import numpy as np\n",
    "from stop_words import get_stop_words\n",
    "from uk_stemmer import UkStemmer\n",
    "import tokenize_uk\n",
    "import matplotlib.pyplot as plt \n",
    "import nltk\n",
    "import pymorphy2\n",
    "import razdel\n",
    "from time import time\n",
    "\n",
    "\n",
    "from sklearn.feature_extraction.text import CountVectorizer, TfidfTransformer, TfidfVectorizer\n",
    "from sklearn.metrics import confusion_matrix, plot_confusion_matrix, accuracy_score, f1_score\n",
    "from sklearn.svm import LinearSVC, SVC\n",
    "from sklearn.neural_network import MLPClassifier\n",
    "from sklearn.naive_bayes import MultinomialNB\n",
    "from sklearn.linear_model import LogisticRegression, SGDClassifier, Perceptron, PassiveAggressiveClassifier\n",
    "from sklearn.ensemble import RandomForestClassifier, GradientBoostingClassifier\n",
    "from sklearn.ensemble import VotingClassifier, BaggingClassifier, StackingClassifier\n",
    "from sklearn.model_selection import train_test_split, cross_val_score, GridSearchCV\n",
    "from sklearn.preprocessing import StandardScaler, LabelEncoder, OneHotEncoder\n",
    "from sklearn.neighbors import KNeighborsClassifier\n",
    "from sklearn.multiclass import OneVsRestClassifier, OneVsOneClassifier\n",
    "from sklearn.calibration import CalibratedClassifierCV\n",
    "from sklearn.feature_selection import chi2\n",
    "from sklearn.compose import ColumnTransformer\n",
    "from sklearn.pipeline import Pipeline"
   ]
  },
  {
   "cell_type": "markdown",
   "metadata": {},
   "source": [
    "## Loading news in dataframe"
   ]
  },
  {
   "cell_type": "code",
   "execution_count": 4,
   "metadata": {},
   "outputs": [],
   "source": [
    "categorized_my_file_path = '../data/categorized.csv'\n",
    "def get_train_data(filepath):\n",
    "    categorized = pd.read_csv(filepath)\n",
    "    return categorized[categorized.lang=='uk'], categorized[categorized.lang=='ru']\n",
    "\n",
    "news_ukr, news_ru = get_train_data(categorized_my_file_path)"
   ]
  },
  {
   "cell_type": "markdown",
   "metadata": {},
   "source": [
    "### Initialization of stop words, stemmer and lemmatizer for ukrainian and russian"
   ]
  },
  {
   "cell_type": "code",
   "execution_count": 5,
   "metadata": {},
   "outputs": [],
   "source": [
    "stop_words_ukr = get_stop_words('uk')\n",
    "stop_words_ru = get_stop_words('ru')\n",
    "\n",
    "additional_sw_ukr_path = '../dicts/more_stop_words_ukr.txt'\n",
    "additional_sw_ru_path = '../dicts/more_stop_words_ru.txt'\n",
    "\n",
    "with open(additional_sw_ukr_path) as f:\n",
    "    more_stopwords_ukr = [w.strip() for w in f.readlines()]\n",
    "    \n",
    "with open(additional_sw_ru_path) as f:\n",
    "    more_stopwords_ru = [w.strip() for w in f.readlines()]\n",
    "    \n",
    "stop_words_ukr += more_stopwords_ukr\n",
    "stop_words_ru += more_stopwords_ru\n",
    "\n",
    "stemmer_ru = nltk.stem.snowball.SnowballStemmer(\"russian\") \n",
    "stemmer_ukr = UkStemmer()\n",
    "\n",
    "stemmed_stopwords_ukr = [stemmer_ukr.stem_word(word) for word in stop_words_ukr]\n",
    "stemmed_stopwords_ru = [stemmer_ru.stem(word) for word in stop_words_ru]\n",
    "\n",
    "morph_ru = pymorphy2.MorphAnalyzer(lang='ru')\n",
    "morph_ukr = pymorphy2.MorphAnalyzer(lang='uk')"
   ]
  },
  {
   "cell_type": "markdown",
   "metadata": {},
   "source": [
    "## Parameters for custom tokenizers for ukrainian an russian"
   ]
  },
  {
   "cell_type": "code",
   "execution_count": 6,
   "metadata": {},
   "outputs": [],
   "source": [
    "token_pattern = re.compile(r'\\w{2,}')\n",
    "\n",
    "stem_ukr = {\"tokenize\": tokenize_uk.tokenize_words,\n",
    "            \"stem\": stemmer_ukr.stem_word, \n",
    "            \"stop_words\": stemmed_stopwords_ukr,\n",
    "           \"token_pattern\": token_pattern}\n",
    "\n",
    "stem_ru = {\"tokenize\": lambda text: [_.text for _ in razdel.tokenize(text)],\n",
    "            \"stem\": stemmer_ru.stem, \n",
    "            \"stop_words\": stemmed_stopwords_ru,\n",
    "           \"token_pattern\": token_pattern}\n",
    "\n",
    "lemm_ukr = {\"tokenize\": tokenize_uk.tokenize_words,\n",
    "            \"stem\": lambda w: morph_ukr.parse(w)[0].normal_form, \n",
    "            \"stop_words\": stop_words_ukr,\n",
    "           \"token_pattern\": token_pattern}\n",
    "\n",
    "lemm_ru = {\"tokenize\": lambda text: [_.text for _ in razdel.tokenize(text)],\n",
    "            \"stem\": lambda w: morph_ru.parse(w)[0].normal_form, \n",
    "            \"stop_words\": stop_words_ru,\n",
    "           \"token_pattern\": token_pattern}"
   ]
  },
  {
   "cell_type": "markdown",
   "metadata": {},
   "source": [
    "## Functions to split data, get custom tokenizer and features"
   ]
  },
  {
   "cell_type": "code",
   "execution_count": 7,
   "metadata": {},
   "outputs": [],
   "source": [
    "def split_data(text, label, test_size):\n",
    "    return train_test_split(text, label, test_size=test_size, stratify = label)\n",
    "\n",
    "\n",
    "def my_tokenizer(text, tokenize, stem, stop_words, token_pattern):\n",
    "    text = text.lower()\n",
    "    tokens = tokenize(text)\n",
    "    stemmed = [stem(tok) for tok in tokens if ( len(tok)>1 and\n",
    "                                        token_pattern.match(tok) )]\n",
    "    return [tok for tok in stemmed if tok not in stop_words]\n",
    "\n",
    "\n",
    "def get_features(vectorizer, X_train, X_test):\n",
    "    vectorizer.fit(X_train)\n",
    "    X_train = vectorizer.transform(X_train)\n",
    "    X_test = vectorizer.transform(X_test)\n",
    "    return X_train, X_test, vectorizer.vocabulary_, vectorizer.get_feature_names()"
   ]
  },
  {
   "cell_type": "markdown",
   "metadata": {},
   "source": [
    "## Split the data and get features"
   ]
  },
  {
   "cell_type": "code",
   "execution_count": 8,
   "metadata": {},
   "outputs": [],
   "source": [
    "X_train, X_test, y_train, y_test = split_data(news_ukr.all_text, news_ukr.category, 0.3)"
   ]
  },
  {
   "cell_type": "code",
   "execution_count": 9,
   "metadata": {},
   "outputs": [
    {
     "name": "stderr",
     "output_type": "stream",
     "text": [
      "/Users/oksana/Dev/TextClassification/venv/lib/python3.7/site-packages/sklearn/feature_extraction/text.py:484: UserWarning: The parameter 'token_pattern' will not be used since 'tokenizer' is not None'\n",
      "  warnings.warn(\"The parameter 'token_pattern' will not be used\"\n"
     ]
    }
   ],
   "source": [
    "tfidf_vec = TfidfVectorizer(tokenizer = lambda text: my_tokenizer(text, **stem_ukr), \n",
    "                             max_df=0.9, min_df = 3)\n",
    "\n",
    "X_train_vec, X_test_vec, vocabulary, feature_names = get_features(tfidf_vec, X_train, X_test)"
   ]
  },
  {
   "cell_type": "markdown",
   "metadata": {},
   "source": [
    "## Check top features for every category"
   ]
  },
  {
   "cell_type": "code",
   "execution_count": 10,
   "metadata": {},
   "outputs": [],
   "source": [
    "def get_top_features(X_train, y_train, feature_names, N=5):\n",
    "    for cat in y_train.unique():\n",
    "        features_chi2 = chi2(X_train, y_train==cat)\n",
    "        indices = np.argsort(features_chi2[0])\n",
    "        features = np.array(feature_names)[indices]\n",
    "        unigrams = [v for v in features if len(v.split(' ')) == 1]\n",
    "    #     bigrams = [v for v in features if len(v.split(' ')) == 2]\n",
    "        print(\"# '{}':\".format(cat))\n",
    "        print(\"  . Most correlated unigrams:\\n. {}\".format('\\n. '.join(unigrams[-N:])))\n",
    "    #     print(\"  . Most correlated bigrams:\\n. {}\".format('\\n. '.join(bigrams[-N:])))"
   ]
  },
  {
   "cell_type": "code",
   "execution_count": 16,
   "metadata": {},
   "outputs": [
    {
     "name": "stdout",
     "output_type": "stream",
     "text": [
      "# 'Світ':\n",
      "  . Most correlated unigrams:\n",
      ". флойд\n",
      ". бейрут\n",
      ". джонсон\n",
      ". вірмені\n",
      ". сша\n",
      "# 'Життя/lifestyle':\n",
      "  . Most correlated unigrams:\n",
      ". карт\n",
      ". знак\n",
      ". продукт\n",
      ". свят\n",
      ". зодіак\n",
      "# 'Економіка':\n",
      "  . Most correlated unigrams:\n",
      ". банк\n",
      ". курс\n",
      ". мвф\n",
      ". млрд\n",
      ". грн\n",
      "# 'Політика':\n",
      "  . Most correlated unigrams:\n",
      ". порошенк\n",
      ". верховн\n",
      ". рад\n",
      ". депутат\n",
      ". вакарчук\n",
      "# 'Шоу-бізнес':\n",
      "  . Most correlated unigrams:\n",
      ". лорак\n",
      ". показал\n",
      ". instagram\n",
      ". співачк\n",
      ". зірк\n",
      "# 'Інциденти':\n",
      "  . Most correlated unigrams:\n",
      ". автомобіл\n",
      ". поліці\n",
      ". вибух\n",
      ". пожеж\n",
      ". чоловік\n",
      "# 'Суспільство':\n",
      "  . Most correlated unigrams:\n",
      ". мов\n",
      ". шляхопровод\n",
      ". оцінюванн\n",
      ". зно\n",
      ". стерненк\n",
      "# 'Спорт':\n",
      "  . Most correlated unigrams:\n",
      ". тренер\n",
      ". ліг\n",
      ". клуб\n",
      ". динам\n",
      ". матч\n",
      "# 'Карантин':\n",
      "  . Most correlated unigrams:\n",
      ". заклад\n",
      ". послабленн\n",
      ". украин\n",
      ". масков\n",
      ". карантин\n",
      "# 'Міжнародна політика':\n",
      "  . Most correlated unigrams:\n",
      ". трамп\n",
      ". парад\n",
      ". санкці\n",
      ". лукашенк\n",
      ". білорус\n",
      "# 'Технології':\n",
      "  . Most correlated unigrams:\n",
      ". crew\n",
      ". spacex\n",
      ". смартфон\n",
      ". apple\n",
      ". microsoft\n",
      "# 'Погода':\n",
      "  . Most correlated unigrams:\n",
      ". град\n",
      ". синоптик\n",
      ". гроз\n",
      ". вден\n",
      ". температур\n",
      "# 'Коронавірус':\n",
      "  . Most correlated unigrams:\n",
      ". коронавірус\n",
      ". одуж\n",
      ". covid\n",
      ". доб\n",
      ". випадк\n",
      "# 'Війна/Донбас':\n",
      "  . Most correlated unigrams:\n",
      ". калібр\n",
      ". обстріл\n",
      ". ткг\n",
      ". донбас\n",
      ". бойовик\n",
      "# 'Інше':\n",
      "  . Most correlated unigrams:\n",
      ". гігантськ\n",
      ". люботин\n",
      ". новинн\n",
      ". підбірк\n",
      ". совс\n"
     ]
    }
   ],
   "source": [
    "get_top_features(X_train_vec, y_train, feature_names, N=5)"
   ]
  },
  {
   "cell_type": "markdown",
   "metadata": {},
   "source": [
    "## Check model accuracy"
   ]
  },
  {
   "cell_type": "code",
   "execution_count": 11,
   "metadata": {},
   "outputs": [],
   "source": [
    "def test_model(model, X_train, X_test, y_train, y_test):\n",
    "    clf = model.fit(X_train, y_train)\n",
    "    predicted = clf.predict(X_test)\n",
    "\n",
    "    plot_confusion_matrix(clf, X_test, y_test, xticks_rotation = 'vertical') \n",
    "    plt.show() \n",
    "    cv_score = cross_val_score(model, X_train, y_train, cv=5, scoring = 'f1_weighted').mean()\n",
    "\n",
    "    print('F1_score:', f1_score(y_test,predicted, average = 'weighted'))\n",
    "    print('CV_score:', cv_score)\n",
    "    return clf, predicted\n"
   ]
  },
  {
   "cell_type": "code",
   "execution_count": 18,
   "metadata": {},
   "outputs": [
    {
     "name": "stderr",
     "output_type": "stream",
     "text": [
      "/Users/oksana/Dev/TextClassification/venv/lib/python3.7/site-packages/sklearn/linear_model/_logistic.py:764: ConvergenceWarning: lbfgs failed to converge (status=1):\n",
      "STOP: TOTAL NO. of ITERATIONS REACHED LIMIT.\n",
      "\n",
      "Increase the number of iterations (max_iter) or scale the data as shown in:\n",
      "    https://scikit-learn.org/stable/modules/preprocessing.html\n",
      "Please also refer to the documentation for alternative solver options:\n",
      "    https://scikit-learn.org/stable/modules/linear_model.html#logistic-regression\n",
      "  extra_warning_msg=_LOGISTIC_SOLVER_CONVERGENCE_MSG)\n"
     ]
    },
    {
     "data": {
      "image/png": "[encoded data removed]",
      "text/plain": [
       "<Figure size 432x288 with 2 Axes>"
      ]
     },
     "metadata": {
      "needs_background": "light"
     },
     "output_type": "display_data"
    },
    {
     "name": "stderr",
     "output_type": "stream",
     "text": [
      "/Users/oksana/Dev/TextClassification/venv/lib/python3.7/site-packages/sklearn/linear_model/_logistic.py:764: ConvergenceWarning: lbfgs failed to converge (status=1):\n",
      "STOP: TOTAL NO. of ITERATIONS REACHED LIMIT.\n",
      "\n",
      "Increase the number of iterations (max_iter) or scale the data as shown in:\n",
      "    https://scikit-learn.org/stable/modules/preprocessing.html\n",
      "Please also refer to the documentation for alternative solver options:\n",
      "    https://scikit-learn.org/stable/modules/linear_model.html#logistic-regression\n",
      "  extra_warning_msg=_LOGISTIC_SOLVER_CONVERGENCE_MSG)\n",
      "/Users/oksana/Dev/TextClassification/venv/lib/python3.7/site-packages/sklearn/linear_model/_logistic.py:764: ConvergenceWarning: lbfgs failed to converge (status=1):\n",
      "STOP: TOTAL NO. of ITERATIONS REACHED LIMIT.\n",
      "\n",
      "Increase the number of iterations (max_iter) or scale the data as shown in:\n",
      "    https://scikit-learn.org/stable/modules/preprocessing.html\n",
      "Please also refer to the documentation for alternative solver options:\n",
      "    https://scikit-learn.org/stable/modules/linear_model.html#logistic-regression\n",
      "  extra_warning_msg=_LOGISTIC_SOLVER_CONVERGENCE_MSG)\n",
      "/Users/oksana/Dev/TextClassification/venv/lib/python3.7/site-packages/sklearn/linear_model/_logistic.py:764: ConvergenceWarning: lbfgs failed to converge (status=1):\n",
      "STOP: TOTAL NO. of ITERATIONS REACHED LIMIT.\n",
      "\n",
      "Increase the number of iterations (max_iter) or scale the data as shown in:\n",
      "    https://scikit-learn.org/stable/modules/preprocessing.html\n",
      "Please also refer to the documentation for alternative solver options:\n",
      "    https://scikit-learn.org/stable/modules/linear_model.html#logistic-regression\n",
      "  extra_warning_msg=_LOGISTIC_SOLVER_CONVERGENCE_MSG)\n",
      "/Users/oksana/Dev/TextClassification/venv/lib/python3.7/site-packages/sklearn/linear_model/_logistic.py:764: ConvergenceWarning: lbfgs failed to converge (status=1):\n",
      "STOP: TOTAL NO. of ITERATIONS REACHED LIMIT.\n",
      "\n",
      "Increase the number of iterations (max_iter) or scale the data as shown in:\n",
      "    https://scikit-learn.org/stable/modules/preprocessing.html\n",
      "Please also refer to the documentation for alternative solver options:\n",
      "    https://scikit-learn.org/stable/modules/linear_model.html#logistic-regression\n",
      "  extra_warning_msg=_LOGISTIC_SOLVER_CONVERGENCE_MSG)\n"
     ]
    },
    {
     "name": "stdout",
     "output_type": "stream",
     "text": [
      "F1_score: 0.6791556878247624\n",
      "CV_score: 0.7387509947233889\n"
     ]
    },
    {
     "name": "stderr",
     "output_type": "stream",
     "text": [
      "/Users/oksana/Dev/TextClassification/venv/lib/python3.7/site-packages/sklearn/linear_model/_logistic.py:764: ConvergenceWarning: lbfgs failed to converge (status=1):\n",
      "STOP: TOTAL NO. of ITERATIONS REACHED LIMIT.\n",
      "\n",
      "Increase the number of iterations (max_iter) or scale the data as shown in:\n",
      "    https://scikit-learn.org/stable/modules/preprocessing.html\n",
      "Please also refer to the documentation for alternative solver options:\n",
      "    https://scikit-learn.org/stable/modules/linear_model.html#logistic-regression\n",
      "  extra_warning_msg=_LOGISTIC_SOLVER_CONVERGENCE_MSG)\n"
     ]
    }
   ],
   "source": [
    "model, predicted = test_model(stacking, X_train_vec, X_test_vec, y_train, y_test)\n",
    "# SGDClassifier()\n",
    "# LinearSVC()\n",
    "# MLPClassifier\n",
    "# MultinomialNB\n",
    "# LogisticRegression\n",
    "# RandomForestClassifier\n",
    "# KNeighborsClassifier\n",
    "# PassiveAggressiveClassifier"
   ]
  },
  {
   "cell_type": "code",
   "execution_count": 17,
   "metadata": {},
   "outputs": [],
   "source": [
    "models = [('pa', PassiveAggressiveClassifier()),('svm',LinearSVC())]\n",
    "stacking = StackingClassifier(estimators=models)"
   ]
  },
  {
   "cell_type": "markdown",
   "metadata": {},
   "source": [
    "## Find best model parameters with GridSearchCV"
   ]
  },
  {
   "cell_type": "code",
   "execution_count": 15,
   "metadata": {},
   "outputs": [
    {
     "name": "stdout",
     "output_type": "stream",
     "text": [
      "{'C': 1, 'class_weight': None}\n",
      "Test Score: 0.6862021258527589\n"
     ]
    }
   ],
   "source": [
    "parameters = {'C':[1, 5, 10, 20], 'class_weight':['balanced', None]}\n",
    "svc = LinearSVC()\n",
    "clf = GridSearchCV(svc, parameters, n_jobs=-1)\n",
    "clf.fit(X_train_vec, y_train)\n",
    "print(clf.best_params_)\n",
    "\n",
    "final_model = clf.best_estimator_\n",
    "train_predictions = final_model.predict(X_train_vec)\n",
    "test_predictions = final_model.predict(X_test_vec)\n",
    "\n",
    "print('Test Score:', f1_score(test_predictions, y_test, average = 'weighted'))"
   ]
  },
  {
   "cell_type": "code",
   "execution_count": null,
   "metadata": {},
   "outputs": [],
   "source": [
    "pipeline = Pipeline([\n",
    "    ('vect', TfidfVectorizer(tokenizer = lambda text: my_tokenizer(text, **stem_ukr))),\n",
    "    ('tfidf', TfidfTransformer()),\n",
    "    ('clf', LinearSVC()),\n",
    "])\n",
    "\n",
    "\n",
    "parameters = {\n",
    "    'vect__max_df': (0.5, 0.75, 1.0),\n",
    "    'vect__max_features': (None, 5000, 10000, 50000),\n",
    "    'vect__ngram_range': ((1, 1), (1, 2)),  \n",
    "    'tfidf__use_idf': (True, False),\n",
    "    'tfidf__norm': ('l1', 'l2'),\n",
    "    'clf__C': (1, 5, 10, 20),\n",
    "    'clf__penalty': ('l2', 'elasticnet'),\n",
    "    'clf__max_iter': (1000, 2000),\n",
    "}\n",
    "\n",
    "\n",
    "grid_search = GridSearchCV(pipeline, parameters, n_jobs=-1, verbose=1)\n",
    "\n",
    "print(\"Performing grid search...\")\n",
    "print(\"pipeline:\", [name for name, _ in pipeline.steps])\n",
    "print(\"parameters:\")\n",
    "pprint(parameters)\n",
    "t0 = time()\n",
    "grid_search.fit(X_train, y_train)\n",
    "print(\"done in %0.3fs\" % (time() - t0))\n",
    "print()\n",
    "\n",
    "print(\"Best score: %0.3f\" % grid_search.best_score_)\n",
    "print(\"Best parameters set:\")\n",
    "best_parameters = grid_search.best_estimator_.get_params()\n",
    "for param_name in sorted(parameters.keys()):\n",
    "    print(\"\\t%s: %r\" % (param_name, best_parameters[param_name]))"
   ]
  }
 ],
 "metadata": {
  "kernelspec": {
   "display_name": "Python 3",
   "language": "python",
   "name": "python3"
  },
  "language_info": {
   "codemirror_mode": {
    "name": "ipython",
    "version": 3
   },
   "file_extension": ".py",
   "mimetype": "text/x-python",
   "name": "python",
   "nbconvert_exporter": "python",
   "pygments_lexer": "ipython3",
   "version": "3.7.3"
  }
 },
 "nbformat": 4,
 "nbformat_minor": 4
}
